{
 "cells": [
  {
   "cell_type": "code",
   "execution_count": 11,
   "id": "6f030a54",
   "metadata": {},
   "outputs": [],
   "source": [
    "import numpy as np\n",
    "import pandas as pd\n",
    "import os\n",
    "import time"
   ]
  },
  {
   "cell_type": "code",
   "execution_count": 2,
   "id": "209921ce",
   "metadata": {},
   "outputs": [],
   "source": [
    "def count_kmer(seq,k):\n",
    "    kmer=np.zeros(4**k)\n",
    "    alphabet = {'A': 0, 'T': 1, 'G': 2, 'C': 3}\n",
    "    length=len(seq)\n",
    "    for i in range(length-k+1):\n",
    "        index=0\n",
    "        tmp=seq[i:i+k]\n",
    "        flag=0\n",
    "        mistake=0\n",
    "        for j in range(k):\n",
    "            if tmp[j] != 'A' and tmp[j] != 'T' and tmp[j] != 'C' and tmp[j] != 'G':\n",
    "                flag=1\n",
    "                mistake+=1\n",
    "                break\n",
    "        if flag==1:\n",
    "            continue\n",
    "        for j in range(k):\n",
    "            index+=(4**(k-j-1))*alphabet[seq[i+j]]\n",
    "        kmer[index]+=1\n",
    "    kmer=kmer/(length-k+1-mistake)\n",
    "    return kmer.tolist()"
   ]
  },
  {
   "cell_type": "code",
   "execution_count": 3,
   "id": "cf0358d8",
   "metadata": {},
   "outputs": [],
   "source": [
    "def read_seq(filename):\n",
    "    file = open(filename,\"r\")\n",
    "    name=[]\n",
    "    sequence=[]\n",
    "    seq = \"\"\n",
    "    for line in file:\n",
    "        if line.startswith('>'):\n",
    "            name.append(line[1:-1])\n",
    "        else:\n",
    "            sequence.append(line[:-1])\n",
    "    file.close()\n",
    "    return name,sequence"
   ]
  },
  {
   "cell_type": "code",
   "execution_count": 4,
   "id": "f21c2585",
   "metadata": {},
   "outputs": [],
   "source": [
    "def read_genome(filename):\n",
    "    file=open(filename,\"r\")\n",
    "    name=[]\n",
    "    sequence=[]\n",
    "    seq=\"\"\n",
    "    for line in file:\n",
    "        if line.startswith('>'):\n",
    "            if line.find('|')!=-1:\n",
    "                name.append(line[1:-1].split('|')[3])\n",
    "        else:\n",
    "            seq+=line[:-1]\n",
    "    sequence.append(seq)\n",
    "    file.close()\n",
    "    return name,sequence"
   ]
  },
  {
   "cell_type": "code",
   "execution_count": 5,
   "id": "1ea31393",
   "metadata": {},
   "outputs": [],
   "source": [
    "reflect={0:'Baumannia cicadellinicola str. Hc (Homalodisca coagulata), complete genome',\n",
    "        1:'Psychromonas ingrahamii 37 chromosome, complete genome',\n",
    "        2:'Sphingomonas wittichii RW1 chromosome, complete genome',\n",
    "        3:'Roseiflexus castenholzii DSM 13941 chromosome, complete genome',\n",
    "        4:'Hydrogenobaculum sp. Y04AAS1 chromosome, complete genome',\n",
    "        5:'Alteromonas macleodii str. \\'Deep ecotype\\' chromosome, complete genome',\n",
    "        6:'Denitrovibrio acetiphilus DSM 12809 chromosome, complete genome',\n",
    "        7:'Frankia symbiont of Datisca glomerata chromosome, complete genome',\n",
    "        8:'Candidatus Midichloria mitochondrii IricVA chromosome, complete genome',\n",
    "        9:'Corynebacterium variabile DSM 44702 chromosome, complete genome'}"
   ]
  },
  {
   "cell_type": "code",
   "execution_count": 52,
   "id": "70d97d98",
   "metadata": {},
   "outputs": [],
   "source": [
    "def load_genome_seq(genome_dir,k):\n",
    "    for file in os.listdir(genome_dir):\n",
    "        print(\"loading:\",file)\n",
    "        genome_compare=count_kmer(read_genome(genome_dir+file)[1][0],k)\n",
    "        genome_all_compare.append(genome_compare)\n",
    "        #name_all.append(read_genome(\"../DataSource/genomes/\"+file)[0][0])\n",
    "    print(\"finishied genome\")"
   ]
  },
  {
   "cell_type": "code",
   "execution_count": 7,
   "id": "44d8b459",
   "metadata": {},
   "outputs": [],
   "source": [
    "#pearson\n",
    "def pearson(k):\n",
    "    typee=[]\n",
    "    for i in range(len(num)):\n",
    "        #print(short_seqs[i])\n",
    "        short_seq_compare=count_kmer(short_seqs[i],k)\n",
    "        #print(short_seq_compare)\n",
    "        score=[]\n",
    "        for j in range(10):\n",
    "            #print(np.corrcoef(short_seq_compare,genome_all_compare[j])[1][0])\n",
    "            score.append(np.corrcoef(short_seq_compare,genome_all_compare[j])[1][0])\n",
    "        belongto=np.argmax(score)\n",
    "        typee.append(belongto)\n",
    "        #print(belongto)\n",
    "    #print(pd.value_counts(type))\n",
    "    for i in range(len(num)):\n",
    "        typee[i]=reflect[typee[i]]\n",
    "    return typee"
   ]
  },
  {
   "cell_type": "code",
   "execution_count": 48,
   "id": "b407f309",
   "metadata": {},
   "outputs": [],
   "source": [
    "#L1范数\n",
    "def L1(k):\n",
    "    typeee=[]\n",
    "    for i in range(len(num)):\n",
    "        #print(short_seqs[i])\n",
    "        short_seq_compare=count_kmer(short_seqs[i],k)\n",
    "        #print(short_seq_compare)\n",
    "        dist=[]\n",
    "        for j in range(10):\n",
    "            #print(np.corrcoef(short_seq_compare,genome_all_compare[j])[1][0]) \n",
    "            dist.append(np.sum(np.abs(np.array(short_seq_compare)-np.array(genome_all_compare[j]))))\n",
    "        belongto=np.argmin(dist)\n",
    "        typeee.append(belongto)\n",
    "        #print(belongto)\n",
    "    #print(pd.value_counts(type))\n",
    "    for i in range(len(num)):\n",
    "        typeee[i]=reflect[typeee[i]]\n",
    "    return typeee"
   ]
  },
  {
   "cell_type": "code",
   "execution_count": 29,
   "id": "22a8ad74",
   "metadata": {},
   "outputs": [],
   "source": [
    "def read_map(filename,species):\n",
    "    file=open(filename,\"r\")\n",
    "    acc=[]\n",
    "    j=0\n",
    "    for line in file:\n",
    "        #print(line[2])\n",
    "        start=0\n",
    "        for i in range(10):\n",
    "            #print(line[i])\n",
    "            if(line[i]=='B'or line[i]=='P'or line[i]=='S'or line[i]=='R' or line[i]=='H'or line[i]=='A'or line[i]=='D'or line[i]=='F'or line[i]=='C'):\n",
    "                start=i\n",
    "            else:\n",
    "                continue\n",
    "        #print(start)\n",
    "        #print(line[start:-1])\n",
    "        if(line[start:-1]==species[j]):\n",
    "            acc.append(1)\n",
    "        else:\n",
    "            acc.append(0)\n",
    "        j+=1\n",
    "    file.close()\n",
    "    return acc"
   ]
  },
  {
   "cell_type": "code",
   "execution_count": 59,
   "id": "492bde14",
   "metadata": {},
   "outputs": [
    {
     "name": "stdout",
     "output_type": "stream",
     "text": [
      "Now,k=9\n",
      "loading: NC_007984.fna\n",
      "loading: NC_008709.fna\n",
      "loading: NC_009511.fna\n",
      "loading: NC_009767.fna\n",
      "loading: NC_011126.fna\n",
      "loading: NC_011138.fna\n",
      "loading: NC_013943.fna\n",
      "loading: NC_015656.fna\n",
      "loading: NC_015722.fna\n",
      "loading: NC_015859.fna\n",
      "finishied genome\n",
      "finishied seqs\n"
     ]
    }
   ],
   "source": [
    "for i in range(9,10):\n",
    "    genome_all_compare=[]\n",
    "    num=[]\n",
    "    short_seqs=[]\n",
    "    print(\"Now,k=%d\"%i)\n",
    "    load_genome_seq(\"../DataSource/genomes/\",i)\n",
    "    num,short_seqs=read_seq(\"../DataSource/test.fa\")\n",
    "    print(\"finishied seqs\")\n",
    "    T1=time.perf_counter()\n",
    "    type1=pearson(i)\n",
    "    result1=read_map(\"../DataSource/seq_id.map\",type1)\n",
    "    accuracy1=pd.value_counts(result1)[1]/len(num)\n",
    "    T11=time.perf_counter()\n",
    "        \n",
    "    T2=time.perf_counter()\n",
    "    type2=L1(i)\n",
    "    result2=read_map(\"../DataSource/seq_id.map\",type2)\n",
    "    accuracy2=pd.value_counts(result2)[1]/len(num)\n",
    "    T22=time.perf_counter()\n",
    "        \n",
    "    fp = open(\"./Accuracy_test.csv\", \"a+\")  # a+ 如果文件不存在就创建。存在就在文件内容的后面继续追加\n",
    "    print(i,',',accuracy1,',',(T11-T1)*1000,',',accuracy2,',',(T22-T2)*1000,file=fp)\n",
    "    fp.close()    "
   ]
  },
  {
   "cell_type": "markdown",
   "id": "ac5c3dd2",
   "metadata": {},
   "source": [
    "- 因为算力不够，分段运行，此处不是全部结果"
   ]
  }
 ],
 "metadata": {
  "kernelspec": {
   "display_name": "Python 3 (ipykernel)",
   "language": "python",
   "name": "python3"
  },
  "language_info": {
   "codemirror_mode": {
    "name": "ipython",
    "version": 3
   },
   "file_extension": ".py",
   "mimetype": "text/x-python",
   "name": "python",
   "nbconvert_exporter": "python",
   "pygments_lexer": "ipython3",
   "version": "3.8.6"
  }
 },
 "nbformat": 4,
 "nbformat_minor": 5
}
